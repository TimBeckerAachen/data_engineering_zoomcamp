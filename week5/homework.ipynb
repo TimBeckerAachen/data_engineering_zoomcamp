{
 "cells": [
  {
   "cell_type": "code",
   "execution_count": 1,
   "id": "aa737081",
   "metadata": {},
   "outputs": [],
   "source": [
    "import pandas as pd\n",
    "import pyspark\n",
    "from pyspark.sql import SparkSession\n",
    "from pyspark.sql import types\n",
    "from pyspark.sql import functions as F"
   ]
  },
  {
   "cell_type": "markdown",
   "id": "f06660bb",
   "metadata": {},
   "source": [
    "# Question 1"
   ]
  },
  {
   "cell_type": "code",
   "execution_count": 2,
   "id": "cae045cc",
   "metadata": {},
   "outputs": [
    {
     "name": "stderr",
     "output_type": "stream",
     "text": [
      "22/02/27 21:39:08 WARN Utils: Your hostname, tims-pc resolves to a loopback address: 127.0.1.1; using 192.168.178.46 instead (on interface wlp4s0)\n",
      "22/02/27 21:39:08 WARN Utils: Set SPARK_LOCAL_IP if you need to bind to another address\n",
      "WARNING: An illegal reflective access operation has occurred\n",
      "WARNING: Illegal reflective access by org.apache.spark.unsafe.Platform (file:/home/tim/spark/spark-3.0.3-bin-hadoop3.2/jars/spark-unsafe_2.12-3.0.3.jar) to constructor java.nio.DirectByteBuffer(long,int)\n",
      "WARNING: Please consider reporting this to the maintainers of org.apache.spark.unsafe.Platform\n",
      "WARNING: Use --illegal-access=warn to enable warnings of further illegal reflective access operations\n",
      "WARNING: All illegal access operations will be denied in a future release\n",
      "22/02/27 21:39:08 WARN NativeCodeLoader: Unable to load native-hadoop library for your platform... using builtin-java classes where applicable\n",
      "Using Spark's default log4j profile: org/apache/spark/log4j-defaults.properties\n",
      "Setting default log level to \"WARN\".\n",
      "To adjust logging level use sc.setLogLevel(newLevel). For SparkR, use setLogLevel(newLevel).\n"
     ]
    }
   ],
   "source": [
    "spark = SparkSession.builder \\\n",
    "    .master(\"local[*]\") \\\n",
    "    .appName('test') \\\n",
    "    .getOrCreate()"
   ]
  },
  {
   "cell_type": "code",
   "execution_count": 3,
   "id": "8bbb5fb5",
   "metadata": {
    "scrolled": true
   },
   "outputs": [
    {
     "data": {
      "text/plain": [
       "'3.0.3'"
      ]
     },
     "execution_count": 3,
     "metadata": {},
     "output_type": "execute_result"
    }
   ],
   "source": [
    "spark.version"
   ]
  },
  {
   "cell_type": "markdown",
   "id": "7affb3f2",
   "metadata": {},
   "source": [
    "![exercise1](pics/homework5_ex1.png)"
   ]
  },
  {
   "cell_type": "markdown",
   "id": "8cdcda64",
   "metadata": {},
   "source": [
    "# Question 2"
   ]
  },
  {
   "cell_type": "code",
   "execution_count": 4,
   "id": "b000e961",
   "metadata": {},
   "outputs": [
    {
     "name": "stdout",
     "output_type": "stream",
     "text": [
      "--2022-02-27 11:44:10--  https://nyc-tlc.s3.amazonaws.com/trip+data/fhvhv_tripdata_2021-02.csv\n",
      "Auflösen des Hostnamens nyc-tlc.s3.amazonaws.com (nyc-tlc.s3.amazonaws.com) … 52.217.101.196\n",
      "Verbindungsaufbau zu nyc-tlc.s3.amazonaws.com (nyc-tlc.s3.amazonaws.com)|52.217.101.196|:443 … verbunden.\n",
      "HTTP-Anforderung gesendet, auf Antwort wird gewartet … 200 OK\n",
      "Länge: 733822658 (700M) [text/csv]\n",
      "Wird in ‘fhvhv_tripdata_2021-02.csv’ gespeichert.\n",
      "\n",
      "fhvhv_tripdata_2021 100%[===================>] 699,83M  5,38MB/s    in 2m 12s  \n",
      "\n",
      "2022-02-27 11:46:23 (5,31 MB/s) - ‘fhvhv_tripdata_2021-02.csv’ gespeichert [733822658/733822658]\n",
      "\n"
     ]
    }
   ],
   "source": [
    "!wget https://nyc-tlc.s3.amazonaws.com/trip+data/fhvhv_tripdata_2021-02.csv"
   ]
  },
  {
   "cell_type": "code",
   "execution_count": 4,
   "id": "d02ec8f1",
   "metadata": {},
   "outputs": [],
   "source": [
    "schema = types.StructType([\n",
    "    types.StructField('hvfhs_license_num', types.StringType(), True),\n",
    "    types.StructField('dispatching_base_num', types.StringType(), True),\n",
    "    types.StructField('pickup_datetime', types.TimestampType(), True),\n",
    "    types.StructField('dropoff_datetime', types.TimestampType(), True),\n",
    "    types.StructField('PULocationID', types.IntegerType(), True),\n",
    "    types.StructField('DOLocationID', types.IntegerType(), True),\n",
    "    types.StructField('SR_Flag', types.StringType(), True)\n",
    "])"
   ]
  },
  {
   "cell_type": "code",
   "execution_count": 5,
   "id": "fe0e948b",
   "metadata": {},
   "outputs": [],
   "source": [
    "df = spark.read \\\n",
    "    .option(\"header\", \"true\") \\\n",
    "    .schema(schema) \\\n",
    "    .csv('fhvhv_tripdata_2021-02.csv')"
   ]
  },
  {
   "cell_type": "code",
   "execution_count": 6,
   "id": "162f7790",
   "metadata": {},
   "outputs": [],
   "source": [
    "df = df.repartition(24)"
   ]
  },
  {
   "cell_type": "code",
   "execution_count": 10,
   "id": "c91a9ed6",
   "metadata": {},
   "outputs": [
    {
     "name": "stderr",
     "output_type": "stream",
     "text": [
      "22/02/27 21:41:13 WARN MemoryManager: Total allocation exceeds 95,00% (1.020.054.720 bytes) of heap memory\n",
      "Scaling row group sizes to 95,00% for 8 writers\n",
      "22/02/27 21:41:13 WARN MemoryManager: Total allocation exceeds 95,00% (1.020.054.720 bytes) of heap memory\n",
      "Scaling row group sizes to 84,44% for 9 writers\n",
      "22/02/27 21:41:13 WARN MemoryManager: Total allocation exceeds 95,00% (1.020.054.720 bytes) of heap memory\n",
      "Scaling row group sizes to 76,00% for 10 writers\n",
      "22/02/27 21:41:13 WARN MemoryManager: Total allocation exceeds 95,00% (1.020.054.720 bytes) of heap memory\n",
      "Scaling row group sizes to 69,09% for 11 writers\n",
      "22/02/27 21:41:13 WARN MemoryManager: Total allocation exceeds 95,00% (1.020.054.720 bytes) of heap memory\n",
      "Scaling row group sizes to 63,33% for 12 writers\n",
      "22/02/27 21:41:13 WARN MemoryManager: Total allocation exceeds 95,00% (1.020.054.720 bytes) of heap memory\n",
      "Scaling row group sizes to 58,46% for 13 writers\n",
      "22/02/27 21:41:13 WARN MemoryManager: Total allocation exceeds 95,00% (1.020.054.720 bytes) of heap memory\n",
      "Scaling row group sizes to 54,29% for 14 writers\n",
      "22/02/27 21:41:13 WARN MemoryManager: Total allocation exceeds 95,00% (1.020.054.720 bytes) of heap memory\n",
      "Scaling row group sizes to 50,67% for 15 writers\n",
      "22/02/27 21:41:13 WARN MemoryManager: Total allocation exceeds 95,00% (1.020.054.720 bytes) of heap memory\n",
      "Scaling row group sizes to 47,50% for 16 writers\n",
      "22/02/27 21:41:16 WARN MemoryManager: Total allocation exceeds 95,00% (1.020.054.720 bytes) of heap memory\n",
      "Scaling row group sizes to 50,67% for 15 writers\n",
      "22/02/27 21:41:16 WARN MemoryManager: Total allocation exceeds 95,00% (1.020.054.720 bytes) of heap memory\n",
      "Scaling row group sizes to 54,29% for 14 writers\n",
      "22/02/27 21:41:16 WARN MemoryManager: Total allocation exceeds 95,00% (1.020.054.720 bytes) of heap memory\n",
      "Scaling row group sizes to 58,46% for 13 writers\n",
      "22/02/27 21:41:16 WARN MemoryManager: Total allocation exceeds 95,00% (1.020.054.720 bytes) of heap memory\n",
      "Scaling row group sizes to 63,33% for 12 writers\n",
      "22/02/27 21:41:16 WARN MemoryManager: Total allocation exceeds 95,00% (1.020.054.720 bytes) of heap memory\n",
      "Scaling row group sizes to 69,09% for 11 writers\n",
      "22/02/27 21:41:16 WARN MemoryManager: Total allocation exceeds 95,00% (1.020.054.720 bytes) of heap memory\n",
      "Scaling row group sizes to 76,00% for 10 writers\n",
      "22/02/27 21:41:16 WARN MemoryManager: Total allocation exceeds 95,00% (1.020.054.720 bytes) of heap memory\n",
      "Scaling row group sizes to 84,44% for 9 writers\n",
      "22/02/27 21:41:16 WARN MemoryManager: Total allocation exceeds 95,00% (1.020.054.720 bytes) of heap memory\n",
      "Scaling row group sizes to 95,00% for 8 writers\n",
      "22/02/27 21:41:16 WARN MemoryManager: Total allocation exceeds 95,00% (1.020.054.720 bytes) of heap memory\n",
      "Scaling row group sizes to 95,00% for 8 writers\n",
      "                                                                                \r"
     ]
    }
   ],
   "source": [
    "df.write.parquet('fhvhv/2021/02/', mode='overwrite')"
   ]
  },
  {
   "cell_type": "code",
   "execution_count": 11,
   "id": "803b8fe1",
   "metadata": {},
   "outputs": [
    {
     "name": "stdout",
     "output_type": "stream",
     "text": [
      "insgesamt 200M\r\n",
      "-rw-r--r-- 1 tim tim 8,4M Feb 27 21:41 part-00000-857dad83-2293-4c2c-aefe-3c4ed302d04b-c000.snappy.parquet\r\n",
      "-rw-r--r-- 1 tim tim 8,4M Feb 27 21:41 part-00001-857dad83-2293-4c2c-aefe-3c4ed302d04b-c000.snappy.parquet\r\n",
      "-rw-r--r-- 1 tim tim 8,4M Feb 27 21:41 part-00002-857dad83-2293-4c2c-aefe-3c4ed302d04b-c000.snappy.parquet\r\n",
      "-rw-r--r-- 1 tim tim 8,4M Feb 27 21:41 part-00003-857dad83-2293-4c2c-aefe-3c4ed302d04b-c000.snappy.parquet\r\n",
      "-rw-r--r-- 1 tim tim 8,4M Feb 27 21:41 part-00004-857dad83-2293-4c2c-aefe-3c4ed302d04b-c000.snappy.parquet\r\n",
      "-rw-r--r-- 1 tim tim 8,4M Feb 27 21:41 part-00005-857dad83-2293-4c2c-aefe-3c4ed302d04b-c000.snappy.parquet\r\n",
      "-rw-r--r-- 1 tim tim 8,4M Feb 27 21:41 part-00006-857dad83-2293-4c2c-aefe-3c4ed302d04b-c000.snappy.parquet\r\n",
      "-rw-r--r-- 1 tim tim 8,4M Feb 27 21:41 part-00007-857dad83-2293-4c2c-aefe-3c4ed302d04b-c000.snappy.parquet\r\n",
      "-rw-r--r-- 1 tim tim 8,4M Feb 27 21:41 part-00008-857dad83-2293-4c2c-aefe-3c4ed302d04b-c000.snappy.parquet\r\n",
      "-rw-r--r-- 1 tim tim 8,4M Feb 27 21:41 part-00009-857dad83-2293-4c2c-aefe-3c4ed302d04b-c000.snappy.parquet\r\n",
      "-rw-r--r-- 1 tim tim 8,4M Feb 27 21:41 part-00010-857dad83-2293-4c2c-aefe-3c4ed302d04b-c000.snappy.parquet\r\n",
      "-rw-r--r-- 1 tim tim 8,4M Feb 27 21:41 part-00011-857dad83-2293-4c2c-aefe-3c4ed302d04b-c000.snappy.parquet\r\n",
      "-rw-r--r-- 1 tim tim 8,4M Feb 27 21:41 part-00012-857dad83-2293-4c2c-aefe-3c4ed302d04b-c000.snappy.parquet\r\n",
      "-rw-r--r-- 1 tim tim 8,4M Feb 27 21:41 part-00013-857dad83-2293-4c2c-aefe-3c4ed302d04b-c000.snappy.parquet\r\n",
      "-rw-r--r-- 1 tim tim 8,4M Feb 27 21:41 part-00014-857dad83-2293-4c2c-aefe-3c4ed302d04b-c000.snappy.parquet\r\n",
      "-rw-r--r-- 1 tim tim 8,4M Feb 27 21:41 part-00015-857dad83-2293-4c2c-aefe-3c4ed302d04b-c000.snappy.parquet\r\n",
      "-rw-r--r-- 1 tim tim 8,4M Feb 27 21:41 part-00016-857dad83-2293-4c2c-aefe-3c4ed302d04b-c000.snappy.parquet\r\n",
      "-rw-r--r-- 1 tim tim 8,4M Feb 27 21:41 part-00017-857dad83-2293-4c2c-aefe-3c4ed302d04b-c000.snappy.parquet\r\n",
      "-rw-r--r-- 1 tim tim 8,4M Feb 27 21:41 part-00018-857dad83-2293-4c2c-aefe-3c4ed302d04b-c000.snappy.parquet\r\n",
      "-rw-r--r-- 1 tim tim 8,4M Feb 27 21:41 part-00019-857dad83-2293-4c2c-aefe-3c4ed302d04b-c000.snappy.parquet\r\n",
      "-rw-r--r-- 1 tim tim 8,4M Feb 27 21:41 part-00020-857dad83-2293-4c2c-aefe-3c4ed302d04b-c000.snappy.parquet\r\n",
      "-rw-r--r-- 1 tim tim 8,4M Feb 27 21:41 part-00021-857dad83-2293-4c2c-aefe-3c4ed302d04b-c000.snappy.parquet\r\n",
      "-rw-r--r-- 1 tim tim 8,4M Feb 27 21:41 part-00022-857dad83-2293-4c2c-aefe-3c4ed302d04b-c000.snappy.parquet\r\n",
      "-rw-r--r-- 1 tim tim 8,4M Feb 27 21:41 part-00023-857dad83-2293-4c2c-aefe-3c4ed302d04b-c000.snappy.parquet\r\n",
      "-rw-r--r-- 1 tim tim    0 Feb 27 21:41 _SUCCESS\r\n"
     ]
    }
   ],
   "source": [
    "!ls -lh fhvhv/2021/02"
   ]
  },
  {
   "cell_type": "markdown",
   "id": "e672d85d",
   "metadata": {},
   "source": [
    "# Question 3"
   ]
  },
  {
   "cell_type": "code",
   "execution_count": 12,
   "id": "87e7d5ad",
   "metadata": {},
   "outputs": [
    {
     "name": "stderr",
     "output_type": "stream",
     "text": [
      "[Stage 2:=====================>                                   (6 + 10) / 16]\r"
     ]
    },
    {
     "name": "stdout",
     "output_type": "stream",
     "text": [
      "+-----------------+--------------------+-------------------+-------------------+------------+------------+-------+\n",
      "|hvfhs_license_num|dispatching_base_num|    pickup_datetime|   dropoff_datetime|PULocationID|DOLocationID|SR_Flag|\n",
      "+-----------------+--------------------+-------------------+-------------------+------------+------------+-------+\n",
      "|           HV0003|              B02764|2021-02-03 09:22:59|2021-02-03 09:34:31|         116|          42|   null|\n",
      "|           HV0003|              B02869|2021-02-02 16:51:54|2021-02-02 17:21:00|         211|         265|   null|\n",
      "|           HV0003|              B02878|2021-02-02 02:04:45|2021-02-02 02:23:02|         126|          18|   null|\n",
      "|           HV0003|              B02888|2021-02-03 14:20:54|2021-02-03 15:12:32|          90|         188|   null|\n",
      "|           HV0003|              B02882|2021-02-03 13:28:15|2021-02-03 13:50:38|         229|          48|   null|\n",
      "|           HV0003|              B02871|2021-02-02 21:47:02|2021-02-02 22:04:29|         231|         238|   null|\n",
      "|           HV0003|              B02617|2021-02-02 20:25:09|2021-02-02 20:31:46|         151|          41|   null|\n",
      "|           HV0003|              B02878|2021-02-03 13:22:26|2021-02-03 13:33:07|         243|         169|   null|\n",
      "|           HV0005|              B02510|2021-02-03 10:44:19|2021-02-03 11:04:54|          68|         163|   null|\n",
      "|           HV0003|              B02869|2021-02-03 09:06:19|2021-02-03 09:21:35|         216|         102|   null|\n",
      "|           HV0005|              B02510|2021-02-02 00:04:20|2021-02-02 00:33:55|         180|          71|   null|\n",
      "|           HV0003|              B02872|2021-02-02 13:07:53|2021-02-02 13:16:32|         143|         239|   null|\n",
      "|           HV0003|              B02875|2021-02-02 15:23:17|2021-02-02 15:27:27|         263|          75|   null|\n",
      "|           HV0003|              B02887|2021-02-01 00:48:56|2021-02-01 01:05:59|         255|          37|   null|\n",
      "|           HV0003|              B02879|2021-02-01 18:41:35|2021-02-01 18:48:35|          79|          90|   null|\n",
      "|           HV0003|              B02869|2021-02-02 12:26:00|2021-02-02 12:48:58|          97|         113|   null|\n",
      "|           HV0005|              B02510|2021-02-03 05:37:52|2021-02-03 05:52:04|         180|         203|   null|\n",
      "|           HV0003|              B02872|2021-02-01 17:21:04|2021-02-01 17:24:20|           9|           9|   null|\n",
      "|           HV0003|              B02869|2021-02-03 09:48:21|2021-02-03 10:17:52|         249|         162|   null|\n",
      "|           HV0003|              B02871|2021-02-02 22:17:27|2021-02-02 22:35:51|         206|         156|   null|\n",
      "+-----------------+--------------------+-------------------+-------------------+------------+------------+-------+\n",
      "only showing top 20 rows\n",
      "\n"
     ]
    },
    {
     "name": "stderr",
     "output_type": "stream",
     "text": [
      "\r",
      "[Stage 2:=================================================>       (14 + 2) / 16]\r",
      "\r",
      "                                                                                \r"
     ]
    }
   ],
   "source": [
    "df.show()"
   ]
  },
  {
   "cell_type": "code",
   "execution_count": 13,
   "id": "7b5c1271",
   "metadata": {},
   "outputs": [],
   "source": [
    "df.registerTempTable('fhvhv_data')"
   ]
  },
  {
   "cell_type": "code",
   "execution_count": 14,
   "id": "8e6664f2",
   "metadata": {},
   "outputs": [
    {
     "name": "stderr",
     "output_type": "stream",
     "text": [
      "[Stage 4:=========================>                                (7 + 9) / 16]\r"
     ]
    },
    {
     "name": "stdout",
     "output_type": "stream",
     "text": [
      "+--------+\n",
      "|count(1)|\n",
      "+--------+\n",
      "|  367170|\n",
      "+--------+\n",
      "\n"
     ]
    },
    {
     "name": "stderr",
     "output_type": "stream",
     "text": [
      "\r",
      "                                                                                \r"
     ]
    }
   ],
   "source": [
    "spark.sql(\"\"\"\n",
    "SELECT\n",
    "    count(1)\n",
    "FROM\n",
    "    fhvhv_data\n",
    "WHERE\n",
    "    DATE(pickup_datetime) == '2021-02-15'\n",
    "\"\"\").show()"
   ]
  },
  {
   "cell_type": "markdown",
   "id": "d50bd2b4",
   "metadata": {},
   "source": [
    "# Question 4"
   ]
  },
  {
   "cell_type": "code",
   "execution_count": 15,
   "id": "35f97ed8",
   "metadata": {
    "scrolled": false
   },
   "outputs": [
    {
     "name": "stderr",
     "output_type": "stream",
     "text": [
      "[Stage 7:=============================>                            (8 + 8) / 16]\r"
     ]
    },
    {
     "name": "stdout",
     "output_type": "stream",
     "text": [
      "+--------------------+\n",
      "|            timediff|\n",
      "+--------------------+\n",
      "|16 minutes 8 seconds|\n",
      "|3 minutes 14 seconds|\n",
      "|6 minutes 43 seconds|\n",
      "|25 minutes 51 sec...|\n",
      "|19 minutes 39 sec...|\n",
      "|21 minutes 6 seconds|\n",
      "|6 minutes 25 seconds|\n",
      "|40 minutes 38 sec...|\n",
      "|18 minutes 47 sec...|\n",
      "| 8 minutes 9 seconds|\n",
      "|11 minutes 5 seconds|\n",
      "|16 minutes 44 sec...|\n",
      "|19 minutes 28 sec...|\n",
      "|9 minutes 48 seconds|\n",
      "|15 minutes 25 sec...|\n",
      "|43 minutes 32 sec...|\n",
      "|4 minutes 38 seconds|\n",
      "|33 minutes 28 sec...|\n",
      "|29 minutes 31 sec...|\n",
      "|26 minutes 36 sec...|\n",
      "+--------------------+\n",
      "only showing top 20 rows\n",
      "\n"
     ]
    },
    {
     "name": "stderr",
     "output_type": "stream",
     "text": [
      "\r",
      "[Stage 7:=====================================================>   (15 + 1) / 16]\r",
      "\r",
      "                                                                                \r"
     ]
    }
   ],
   "source": [
    "df.withColumn('timediff', F.col('dropoff_datetime') - F.col('pickup_datetime')).select('timediff').show()"
   ]
  },
  {
   "cell_type": "code",
   "execution_count": 16,
   "id": "d0b78031",
   "metadata": {
    "scrolled": true
   },
   "outputs": [
    {
     "name": "stderr",
     "output_type": "stream",
     "text": [
      "[Stage 9:==========================================>              (12 + 4) / 16]\r"
     ]
    },
    {
     "name": "stdout",
     "output_type": "stream",
     "text": [
      "+-------------+\n",
      "|max(timediff)|\n",
      "+-------------+\n",
      "|        75540|\n",
      "+-------------+\n",
      "\n"
     ]
    },
    {
     "name": "stderr",
     "output_type": "stream",
     "text": [
      "\r",
      "                                                                                \r"
     ]
    }
   ],
   "source": [
    "df.withColumn('timediff', F.col('dropoff_datetime').cast('long') - F.col('pickup_datetime').cast('long')).agg({'timediff': 'max'}).show()"
   ]
  },
  {
   "cell_type": "code",
   "execution_count": 17,
   "id": "bde63d13",
   "metadata": {},
   "outputs": [
    {
     "name": "stderr",
     "output_type": "stream",
     "text": [
      "[Stage 12:=============================================>          (13 + 3) / 16]\r"
     ]
    },
    {
     "name": "stdout",
     "output_type": "stream",
     "text": [
      "+-----------------+--------------------+-------------------+-------------------+------------+------------+-------+--------+\n",
      "|hvfhs_license_num|dispatching_base_num|    pickup_datetime|   dropoff_datetime|PULocationID|DOLocationID|SR_Flag|timediff|\n",
      "+-----------------+--------------------+-------------------+-------------------+------------+------------+-------+--------+\n",
      "|           HV0005|              B02510|2021-02-11 13:40:44|2021-02-12 10:39:44|         247|          41|   null|   75540|\n",
      "|           HV0004|              B02800|2021-02-17 15:54:53|2021-02-18 07:48:34|         242|         254|   null|   57221|\n",
      "|           HV0004|              B02800|2021-02-20 12:08:15|2021-02-21 00:22:14|         188|          55|   null|   44039|\n",
      "|           HV0003|              B02864|2021-02-03 20:24:25|2021-02-04 07:41:58|          51|         147|   null|   40653|\n",
      "|           HV0003|              B02887|2021-02-19 23:17:44|2021-02-20 09:44:01|         210|         149|   null|   37577|\n",
      "|           HV0003|              B02764|2021-02-25 17:13:35|2021-02-26 02:57:05|         174|         126|   null|   35010|\n",
      "|           HV0003|              B02875|2021-02-20 01:36:13|2021-02-20 11:16:19|         242|          31|   null|   34806|\n",
      "|           HV0005|              B02510|2021-02-18 15:24:19|2021-02-19 01:01:11|         196|         197|   null|   34612|\n",
      "|           HV0003|              B02764|2021-02-18 01:31:20|2021-02-18 11:07:15|          89|         265|   null|   34555|\n",
      "|           HV0005|              B02510|2021-02-10 20:51:39|2021-02-11 06:21:08|         254|         259|   null|   34169|\n",
      "|           HV0003|              B02764|2021-02-10 01:56:17|2021-02-10 10:57:33|          61|         265|   null|   32476|\n",
      "|           HV0005|              B02510|2021-02-25 09:18:18|2021-02-25 18:18:57|         169|         265|   null|   32439|\n",
      "|           HV0005|              B02510|2021-02-21 19:59:13|2021-02-22 04:56:16|          10|          10|   null|   32223|\n",
      "|           HV0003|              B02864|2021-02-09 18:36:13|2021-02-10 03:31:00|          78|         147|   null|   32087|\n",
      "|           HV0004|              B02800|2021-02-06 09:48:09|2021-02-06 18:32:16|         229|         188|   null|   31447|\n",
      "|           HV0005|              B02510|2021-02-02 09:42:30|2021-02-02 18:17:43|          85|          85|   null|   30913|\n",
      "|           HV0005|              B02510|2021-02-10 10:12:08|2021-02-10 18:46:24|          29|         125|   null|   30856|\n",
      "|           HV0003|              B02764|2021-02-09 13:30:13|2021-02-09 22:02:25|         188|         265|   null|   30732|\n",
      "|           HV0005|              B02510|2021-02-21 22:50:52|2021-02-22 07:21:52|         177|          73|   null|   30660|\n",
      "|           HV0005|              B02510|2021-02-05 21:32:33|2021-02-06 06:01:04|          97|          72|   null|   30511|\n",
      "+-----------------+--------------------+-------------------+-------------------+------------+------------+-------+--------+\n",
      "only showing top 20 rows\n",
      "\n"
     ]
    },
    {
     "name": "stderr",
     "output_type": "stream",
     "text": [
      "\r",
      "[Stage 13:=====================================================>  (23 + 1) / 24]\r",
      "\r",
      "                                                                                \r"
     ]
    }
   ],
   "source": [
    "df.withColumn('timediff', F.col('dropoff_datetime').cast('long') - F.col('pickup_datetime').cast('long')).orderBy(F.col('timediff').desc()).show()"
   ]
  },
  {
   "cell_type": "markdown",
   "id": "79a49ee5",
   "metadata": {},
   "source": [
    "# Question 5"
   ]
  },
  {
   "cell_type": "code",
   "execution_count": 18,
   "id": "d64a9604",
   "metadata": {},
   "outputs": [
    {
     "name": "stderr",
     "output_type": "stream",
     "text": [
      "[Stage 14:===>                                                    (1 + 15) / 16]\r"
     ]
    },
    {
     "name": "stdout",
     "output_type": "stream",
     "text": [
      "+--------------------+-------+\n",
      "|dispatching_base_num|  count|\n",
      "+--------------------+-------+\n",
      "|              B02510|3233664|\n",
      "|              B02764| 965568|\n",
      "|              B02872| 882689|\n",
      "|              B02875| 685390|\n",
      "|              B02765| 559768|\n",
      "|              B02869| 429720|\n",
      "|              B02887| 322331|\n",
      "|              B02871| 312364|\n",
      "|              B02864| 311603|\n",
      "|              B02866| 311089|\n",
      "|              B02878| 305185|\n",
      "|              B02682| 303255|\n",
      "|              B02617| 274510|\n",
      "|              B02883| 251617|\n",
      "|              B02884| 244963|\n",
      "|              B02882| 232173|\n",
      "|              B02876| 215693|\n",
      "|              B02879| 210137|\n",
      "|              B02867| 200530|\n",
      "|              B02877| 198938|\n",
      "+--------------------+-------+\n",
      "only showing top 20 rows\n",
      "\n"
     ]
    },
    {
     "name": "stderr",
     "output_type": "stream",
     "text": [
      "\r",
      "                                                                                \r"
     ]
    }
   ],
   "source": [
    "df.groupBy('dispatching_base_num').count().orderBy(F.col('count').desc()).show()"
   ]
  },
  {
   "cell_type": "markdown",
   "id": "751ed187",
   "metadata": {},
   "source": [
    "![exercise5](pics/homework5_ex5.png)"
   ]
  },
  {
   "cell_type": "markdown",
   "id": "1d2f50e4",
   "metadata": {},
   "source": [
    "# Question 6"
   ]
  },
  {
   "cell_type": "code",
   "execution_count": 39,
   "id": "68b1ec26",
   "metadata": {},
   "outputs": [
    {
     "name": "stdout",
     "output_type": "stream",
     "text": [
      "+-----------------+--------------------+-------------------+-------------------+------------+------------+-------+\n",
      "|hvfhs_license_num|dispatching_base_num|    pickup_datetime|   dropoff_datetime|PULocationID|DOLocationID|SR_Flag|\n",
      "+-----------------+--------------------+-------------------+-------------------+------------+------------+-------+\n",
      "|           HV0003|              B02764|2021-02-01 00:10:40|2021-02-01 00:21:09|          35|          39|   null|\n",
      "|           HV0003|              B02764|2021-02-01 00:27:23|2021-02-01 00:44:01|          39|          35|   null|\n",
      "|           HV0005|              B02510|2021-02-01 00:28:38|2021-02-01 00:38:27|          39|          91|   null|\n",
      "|           HV0005|              B02510|2021-02-01 00:43:37|2021-02-01 01:23:20|          91|         228|   null|\n",
      "|           HV0003|              B02872|2021-02-01 00:08:42|2021-02-01 00:17:57|         126|         250|   null|\n",
      "|           HV0003|              B02872|2021-02-01 00:26:02|2021-02-01 00:42:51|         208|         243|   null|\n",
      "|           HV0003|              B02872|2021-02-01 00:45:50|2021-02-01 01:02:50|         243|         220|   null|\n",
      "|           HV0003|              B02764|2021-02-01 00:06:42|2021-02-01 00:31:50|          49|          37|   null|\n",
      "|           HV0003|              B02764|2021-02-01 00:34:34|2021-02-01 00:58:13|          37|          76|   null|\n",
      "|           HV0005|              B02510|2021-02-01 00:03:43|2021-02-01 00:39:37|          80|         241|   null|\n",
      "|           HV0005|              B02510|2021-02-01 00:55:36|2021-02-01 01:08:39|         174|          51|   null|\n",
      "|           HV0005|              B02510|2021-02-01 00:06:13|2021-02-01 00:33:45|         235|         129|   null|\n",
      "|           HV0005|              B02510|2021-02-01 00:42:24|2021-02-01 01:11:31|         129|         169|   null|\n",
      "|           HV0003|              B02764|2021-02-01 00:07:05|2021-02-01 00:20:53|         226|          82|   null|\n",
      "|           HV0003|              B02764|2021-02-01 00:28:56|2021-02-01 00:33:59|          82|         129|   null|\n",
      "|           HV0003|              B02764|2021-02-01 00:44:53|2021-02-01 01:07:54|           7|          79|   null|\n",
      "|           HV0003|              B02888|2021-02-01 00:17:55|2021-02-01 00:34:41|           4|         170|   null|\n",
      "|           HV0003|              B02888|2021-02-01 00:38:14|2021-02-01 00:59:20|         164|          42|   null|\n",
      "|           HV0004|              B02800|2021-02-01 00:08:04|2021-02-01 00:24:41|         237|           4|   null|\n",
      "|           HV0004|              B02800|2021-02-01 00:30:44|2021-02-01 00:41:26|         107|          45|   null|\n",
      "+-----------------+--------------------+-------------------+-------------------+------------+------------+-------+\n",
      "only showing top 20 rows\n",
      "\n"
     ]
    }
   ],
   "source": [
    "df.show()"
   ]
  },
  {
   "cell_type": "code",
   "execution_count": 56,
   "id": "8b82d0c8",
   "metadata": {},
   "outputs": [],
   "source": [
    "df_zones = spark.read.option('header', True).csv('../week4/taxi_rides_ny/data/taxi_zone_lookup.csv')"
   ]
  },
  {
   "cell_type": "code",
   "execution_count": 57,
   "id": "a6bfe084",
   "metadata": {
    "scrolled": false
   },
   "outputs": [
    {
     "name": "stdout",
     "output_type": "stream",
     "text": [
      "+----------+-------------+--------------------+------------+\n",
      "|locationid|      borough|                zone|service_zone|\n",
      "+----------+-------------+--------------------+------------+\n",
      "|         1|          EWR|      Newark Airport|         EWR|\n",
      "|         2|       Queens|         Jamaica Bay|   Boro Zone|\n",
      "|         3|        Bronx|Allerton/Pelham G...|   Boro Zone|\n",
      "|         4|    Manhattan|       Alphabet City| Yellow Zone|\n",
      "|         5|Staten Island|       Arden Heights|   Boro Zone|\n",
      "|         6|Staten Island|Arrochar/Fort Wad...|   Boro Zone|\n",
      "|         7|       Queens|             Astoria|   Boro Zone|\n",
      "|         8|       Queens|        Astoria Park|   Boro Zone|\n",
      "|         9|       Queens|          Auburndale|   Boro Zone|\n",
      "|        10|       Queens|        Baisley Park|   Boro Zone|\n",
      "|        11|     Brooklyn|          Bath Beach|   Boro Zone|\n",
      "|        12|    Manhattan|        Battery Park| Yellow Zone|\n",
      "|        13|    Manhattan|   Battery Park City| Yellow Zone|\n",
      "|        14|     Brooklyn|           Bay Ridge|   Boro Zone|\n",
      "|        15|       Queens|Bay Terrace/Fort ...|   Boro Zone|\n",
      "|        16|       Queens|             Bayside|   Boro Zone|\n",
      "|        17|     Brooklyn|             Bedford|   Boro Zone|\n",
      "|        18|        Bronx|        Bedford Park|   Boro Zone|\n",
      "|        19|       Queens|           Bellerose|   Boro Zone|\n",
      "|        20|        Bronx|             Belmont|   Boro Zone|\n",
      "+----------+-------------+--------------------+------------+\n",
      "only showing top 20 rows\n",
      "\n"
     ]
    }
   ],
   "source": [
    "df_zones.show()"
   ]
  },
  {
   "cell_type": "code",
   "execution_count": 72,
   "id": "91117d91",
   "metadata": {},
   "outputs": [
    {
     "name": "stderr",
     "output_type": "stream",
     "text": [
      "[Stage 81:==============================================>      (175 + 16) / 200]\r"
     ]
    },
    {
     "name": "stdout",
     "output_type": "stream",
     "text": [
      "+-----------------------------------------------------+-----+\n",
      "|pickup-dropoff-pair                                  |count|\n",
      "+-----------------------------------------------------+-----+\n",
      "|East New York / East New York                        |45041|\n",
      "|Borough Park / Borough Park                          |37329|\n",
      "|Canarsie / Canarsie                                  |28026|\n",
      "|Crown Heights North / Crown Heights North            |25976|\n",
      "|Bay Ridge / Bay Ridge                                |17934|\n",
      "|Jackson Heights / Jackson Heights                    |14688|\n",
      "|Astoria / Astoria                                    |14688|\n",
      "|Central Harlem North / Central Harlem North          |14481|\n",
      "|Bushwick South / Bushwick South                      |14424|\n",
      "|Flatbush/Ditmas Park / Flatbush/Ditmas Park          |13976|\n",
      "|South Ozone Park / South Ozone Park                  |13716|\n",
      "|Brownsville / Brownsville                            |12829|\n",
      "|JFK Airport / NA                                     |12542|\n",
      "|Prospect-Lefferts Gardens / Crown Heights North      |11814|\n",
      "|Forest Hills / Forest Hills                          |11548|\n",
      "|Bushwick North / Bushwick South                      |11491|\n",
      "|Bushwick South / Bushwick North                      |11487|\n",
      "|Crown Heights North / Prospect-Lefferts Gardens      |11462|\n",
      "|Crown Heights North / Stuyvesant Heights             |11342|\n",
      "|Prospect-Lefferts Gardens / Prospect-Lefferts Gardens|11308|\n",
      "+-----------------------------------------------------+-----+\n",
      "only showing top 20 rows\n",
      "\n"
     ]
    },
    {
     "name": "stderr",
     "output_type": "stream",
     "text": [
      "\r",
      "                                                                                \r"
     ]
    }
   ],
   "source": [
    "df.join(df_zones, df.PULocationID == df_zones.locationid, how='outer') \\\n",
    "  .select(F.col('zone').alias('PULocation'), 'pickup_datetime', 'dropoff_datetime', 'PULocationID', 'DOLocationID') \\\n",
    "  .join(df_zones, df.DOLocationID == df_zones.locationid, how='outer') \\\n",
    "  .select('PULocation', F.col('zone').alias('DOLocation'), 'pickup_datetime', 'dropoff_datetime', 'PULocationID', 'DOLocationID') \\\n",
    "  .fillna({'PULocation': 'Unknown', 'DOLocation': 'Unknown'}) \\\n",
    "  .withColumn('pickup-dropoff-pair', F.concat_ws(' / ', F.col('PULocation'), F.col('DOLocation'))) \\\n",
    "  .groupBy('pickup-dropoff-pair').count().orderBy(F.col('count').desc()) \\\n",
    "  .show(truncate=False)"
   ]
  }
 ],
 "metadata": {
  "kernelspec": {
   "display_name": "data_engineering_zoomcamp",
   "language": "python",
   "name": "data_engineering_zoomcamp"
  },
  "language_info": {
   "codemirror_mode": {
    "name": "ipython",
    "version": 3
   },
   "file_extension": ".py",
   "mimetype": "text/x-python",
   "name": "python",
   "nbconvert_exporter": "python",
   "pygments_lexer": "ipython3",
   "version": "3.9.6"
  }
 },
 "nbformat": 4,
 "nbformat_minor": 5
}
