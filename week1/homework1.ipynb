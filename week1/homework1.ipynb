{
 "cells": [
  {
   "cell_type": "markdown",
   "id": "47cd52c9",
   "metadata": {},
   "source": [
    "# Question 1"
   ]
  },
  {
   "cell_type": "code",
   "execution_count": 1,
   "id": "5aba9908",
   "metadata": {},
   "outputs": [
    {
     "name": "stdout",
     "output_type": "stream",
     "text": [
      "Google Cloud SDK 369.0.0\r\n",
      "alpha 2022.01.14\r\n",
      "beta 2022.01.14\r\n",
      "bq 2.0.72\r\n",
      "core 2022.01.14\r\n",
      "gsutil 5.6\r\n"
     ]
    }
   ],
   "source": [
    "!gcloud --version"
   ]
  },
  {
   "cell_type": "markdown",
   "id": "51ef47ba",
   "metadata": {},
   "source": [
    "# Question 2"
   ]
  },
  {
   "cell_type": "markdown",
   "id": "36eea518",
   "metadata": {},
   "source": [
    "\n",
    "Terraform used the selected providers to generate the following execution plan. Resource actions are indicated with the following symbols:\n",
    "  + create\n",
    "\n",
    "Terraform will perform the following actions:\n",
    "\n",
    "  # google_bigquery_dataset.dataset will be created\n",
    "  + resource \"google_bigquery_dataset\" \"dataset\" {\n",
    "      + creation_time              = (known after apply)\n",
    "      + dataset_id                 = \"trips_data_all\"\n",
    "      + delete_contents_on_destroy = false\n",
    "      + etag                       = (known after apply)\n",
    "      + id                         = (known after apply)\n",
    "      + last_modified_time         = (known after apply)\n",
    "      + location                   = \"europe-west6\"\n",
    "      + project                    = \"dtc-de-339016\"\n",
    "      + self_link                  = (known after apply)\n",
    "\n",
    "      + access {\n",
    "          + domain         = (known after apply)\n",
    "          + group_by_email = (known after apply)\n",
    "          + role           = (known after apply)\n",
    "          + special_group  = (known after apply)\n",
    "          + user_by_email  = (known after apply)\n",
    "\n",
    "          + view {\n",
    "              + dataset_id = (known after apply)\n",
    "              + project_id = (known after apply)\n",
    "              + table_id   = (known after apply)\n",
    "            }\n",
    "        }\n",
    "    }\n",
    "\n",
    "  # google_storage_bucket.data-lake-bucket will be created\n",
    "  + resource \"google_storage_bucket\" \"data-lake-bucket\" {\n",
    "      + force_destroy               = true\n",
    "      + id                          = (known after apply)\n",
    "      + location                    = \"EUROPE-WEST6\"\n",
    "      + name                        = \"dtc_data_lake_dtc-de-339016\"\n",
    "      + project                     = (known after apply)\n",
    "      + self_link                   = (known after apply)\n",
    "      + storage_class               = \"STANDARD\"\n",
    "      + uniform_bucket_level_access = true\n",
    "      + url                         = (known after apply)\n",
    "\n",
    "      + lifecycle_rule {\n",
    "          + action {\n",
    "              + type = \"Delete\"\n",
    "            }\n",
    "\n",
    "          + condition {\n",
    "              + age                   = 30\n",
    "              + matches_storage_class = []\n",
    "              + with_state            = (known after apply)\n",
    "            }\n",
    "        }\n",
    "\n",
    "      + versioning {\n",
    "          + enabled = true\n",
    "        }\n",
    "    }\n",
    "\n",
    "Plan: 2 to add, 0 to change, 0 to destroy.\n",
    "\n",
    "Do you want to perform these actions?\n",
    "  Terraform will perform the actions described above.\n",
    "  Only 'yes' will be accepted to approve.\n",
    "\n",
    "  Enter a value: yes\n",
    "\n",
    "google_bigquery_dataset.dataset: Creating...\n",
    "google_storage_bucket.data-lake-bucket: Creating...\n",
    "google_storage_bucket.data-lake-bucket: Creation complete after 1s [id=dtc_data_lake_dtc-de-339016]\n",
    "google_bigquery_dataset.dataset: Creation complete after 1s [id=projects/dtc-de-339016/datasets/trips_data_all]\n",
    "\n",
    "Apply complete! Resources: 2 added, 0 changed, 0 destroyed.\n"
   ]
  },
  {
   "cell_type": "markdown",
   "id": "b3181ad8",
   "metadata": {},
   "source": [
    "# Question 3"
   ]
  },
  {
   "cell_type": "code",
   "execution_count": 3,
   "id": "4b1aeeba",
   "metadata": {},
   "outputs": [
    {
     "name": "stdout",
     "output_type": "stream",
     "text": [
      "Starting week1_pgdatabase_1 ... \n",
      "Starting week1_pgadmin_1    ... \n",
      "\u001b[1Bting week1_pgadmin_1    ... \u001b[32mdone\u001b[0m"
     ]
    }
   ],
   "source": [
    "!docker-compose up -d"
   ]
  },
  {
   "cell_type": "markdown",
   "id": "ee13a9f4",
   "metadata": {},
   "source": [
    "SELECT \n",
    "  count(tpep_pickup_datetime)\n",
    "FROM \n",
    "  yellow_taxi_trips t\n",
    "WHERE\n",
    "  date_trunc('day', t.\"tpep_pickup_datetime\") = to_date('2021-01-15','YYYY-MM-DD');"
   ]
  },
  {
   "cell_type": "markdown",
   "id": "316fde41",
   "metadata": {},
   "source": [
    "53024"
   ]
  },
  {
   "cell_type": "markdown",
   "id": "683b4423",
   "metadata": {},
   "source": [
    "# Question 4"
   ]
  },
  {
   "cell_type": "markdown",
   "id": "7d14747e",
   "metadata": {},
   "source": [
    "SELECT \n",
    "  CAST(tpep_pickup_datetime AS DATE) AS \"day\",\n",
    "  max(tip_amount)\n",
    "FROM \n",
    "  yellow_taxi_trips t\n",
    "GROUP BY\n",
    "  CAST(tpep_pickup_datetime AS DATE)\n",
    "ORDER BY max ASC;"
   ]
  },
  {
   "cell_type": "markdown",
   "id": "6f288f5f",
   "metadata": {},
   "source": [
    "1140.44 on 2021-01-20"
   ]
  },
  {
   "cell_type": "markdown",
   "id": "0115af68",
   "metadata": {},
   "source": [
    "# Question 5"
   ]
  },
  {
   "cell_type": "markdown",
   "id": "97f72eac",
   "metadata": {},
   "source": [
    "SELECT\n",
    "  \"Zone\",\n",
    "  count(*)\n",
    "FROM (SELECT \n",
    "  tpep_pickup_datetime,\n",
    "  \"PULocationID\",\n",
    "  COALESCE(zpu.\"Zone\", 'Unknown') AS \"pickup_loc\",\n",
    "  COALESCE(zdo.\"Zone\", 'Unknown') AS \"dropoff_loc\",\n",
    "  zdo.\"Zone\" AS \"Zone\"\n",
    "FROM\n",
    "  yellow_taxi_trips t\n",
    "JOIN\n",
    "  zones zpu\n",
    "ON\n",
    "  t.\"PULocationID\" = zpu.\"LocationID\"\n",
    "JOIN\n",
    "  zones zdo\n",
    "ON\n",
    "  t.\"DOLocationID\" = zdo.\"LocationID\"\n",
    "WHERE\n",
    "  zpu.\"Zone\" = 'Central Park' AND\n",
    "  date_trunc('day', t.\"tpep_pickup_datetime\") = to_date('2021-01-14','YYYY-MM-DD')\n",
    ") as a\n",
    "GROUP BY \n",
    "  \"Zone\"\n",
    "ORDER BY \"count\" ASC;"
   ]
  },
  {
   "cell_type": "markdown",
   "id": "2e5482b1",
   "metadata": {},
   "source": [
    "Upper East Side South - 97"
   ]
  },
  {
   "cell_type": "markdown",
   "id": "a8bb2cd4",
   "metadata": {},
   "source": [
    "# Question 6"
   ]
  },
  {
   "cell_type": "markdown",
   "id": "955864e2",
   "metadata": {},
   "source": [
    "SELECT\n",
    "  \"pickup_loc\",\n",
    "  \"dropoff_loc\",\n",
    "  AVG(\"total_amount\")\n",
    "FROM (SELECT \n",
    "  tpep_pickup_datetime,\n",
    "  \"PULocationID\",\n",
    "  COALESCE(zpu.\"Zone\", 'Unknown') AS \"pickup_loc\",\n",
    "  COALESCE(zdo.\"Zone\", 'Unknown') AS \"dropoff_loc\",\n",
    "  zdo.\"Zone\" AS \"Zone\",\n",
    "  total_amount\n",
    "FROM\n",
    "  yellow_taxi_trips t\n",
    "JOIN\n",
    "  zones zpu\n",
    "ON\n",
    "  t.\"PULocationID\" = zpu.\"LocationID\"\n",
    "JOIN\n",
    "  zones zdo\n",
    "ON\n",
    "  t.\"DOLocationID\" = zdo.\"LocationID\"\n",
    ") as a\n",
    "GROUP BY\n",
    "  \"pickup_loc\",\n",
    "  \"dropoff_loc\"\n",
    "ORDER BY \"avg\" ASC;"
   ]
  },
  {
   "cell_type": "markdown",
   "id": "3dcc117d",
   "metadata": {},
   "source": [
    "Manhattan/Alphabet City - Unknown - 2292.4"
   ]
  },
  {
   "cell_type": "code",
   "execution_count": null,
   "id": "14e93fe0",
   "metadata": {},
   "outputs": [],
   "source": []
  }
 ],
 "metadata": {
  "kernelspec": {
   "display_name": "data_engineering_zoomcamp",
   "language": "python",
   "name": "data_engineering_zoomcamp"
  },
  "language_info": {
   "codemirror_mode": {
    "name": "ipython",
    "version": 3
   },
   "file_extension": ".py",
   "mimetype": "text/x-python",
   "name": "python",
   "nbconvert_exporter": "python",
   "pygments_lexer": "ipython3",
   "version": "3.9.6"
  }
 },
 "nbformat": 4,
 "nbformat_minor": 5
}
